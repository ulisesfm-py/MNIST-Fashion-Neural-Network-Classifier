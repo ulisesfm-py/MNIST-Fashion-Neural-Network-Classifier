{
 "cells": [
  {
   "cell_type": "markdown",
   "metadata": {},
   "source": [
    "# MNIST using Tensorflow"
   ]
  },
  {
   "cell_type": "code",
   "execution_count": 1,
   "metadata": {},
   "outputs": [],
   "source": [
    "import numpy as np\n",
    "import tensorflow as tf\n",
    "import matplotlib.pyplot as plt"
   ]
  },
  {
   "cell_type": "code",
   "execution_count": 2,
   "metadata": {},
   "outputs": [
    {
     "name": "stdout",
     "output_type": "stream",
     "text": [
      "TensorFlow version: 2.9.1\n",
      "Available GPUs: [PhysicalDevice(name='/physical_device:GPU:0', device_type='GPU')]\n",
      "Test computation result on GPU: tf.Tensor([2. 4. 6.], shape=(3,), dtype=float32)\n"
     ]
    }
   ],
   "source": [
    "print(\"TensorFlow version:\", tf.__version__)\n",
    "print(\"Available GPUs:\", tf.config.list_physical_devices('GPU'))\n",
    "\n",
    "# Test computation on GPU\n",
    "if tf.config.list_physical_devices('GPU'):\n",
    "    with tf.device('/GPU:0'):\n",
    "        a = tf.constant([1.0, 2.0, 3.0])\n",
    "        b = tf.constant([1.0, 2.0, 3.0])\n",
    "        result = a + b\n",
    "        print(\"Test computation result on GPU:\", result)\n",
    "else:\n",
    "    print(\"No GPU found or not being utilized by TensorFlow.\")"
   ]
  },
  {
   "cell_type": "markdown",
   "metadata": {},
   "source": [
    "## Load data\n",
    "\n",
    "We can load data using our downloaded dataset, or directly use tensorflow, because Fashion MNIST is already included in its library."
   ]
  },
  {
   "cell_type": "markdown",
   "metadata": {},
   "source": [
    "### Option 1"
   ]
  },
  {
   "cell_type": "code",
   "execution_count": 3,
   "metadata": {},
   "outputs": [],
   "source": [
    "fashion_mnist = tf.keras.datasets.fashion_mnist\n",
    "(tr_images, tr_labels), (vd_images, vd_labels) = fashion_mnist.load_data()"
   ]
  },
  {
   "cell_type": "markdown",
   "metadata": {},
   "source": [
    "### Option 2"
   ]
  },
  {
   "cell_type": "code",
   "execution_count": 4,
   "metadata": {},
   "outputs": [],
   "source": [
    "def read_data(images_file, labels_file, max_rows=None):\n",
    "    if max_rows is None:\n",
    "        x = np.loadtxt(images_file, delimiter=',')\n",
    "        y = np.loadtxt(labels_file, delimiter=',')\n",
    "    else:\n",
    "        x = np.loadtxt(images_file, delimiter=',', max_rows=max_rows)\n",
    "        y = np.loadtxt(labels_file, delimiter=',', max_rows=max_rows)\n",
    "    return x, y"
   ]
  },
  {
   "cell_type": "code",
   "execution_count": 5,
   "metadata": {},
   "outputs": [],
   "source": [
    "train_data, train_labels = read_data('../data/images_train.csv', '../data/labels_train.csv')"
   ]
  },
  {
   "cell_type": "code",
   "execution_count": 6,
   "metadata": {},
   "outputs": [],
   "source": [
    "test_data, test_labels = read_data('../data/images_test.csv', '../data/labels_test.csv')"
   ]
  },
  {
   "cell_type": "code",
   "execution_count": 7,
   "metadata": {},
   "outputs": [
    {
     "data": {
      "text/plain": [
       "((60000, 28, 28), (60000, 784), (60000,), (60000,))"
      ]
     },
     "execution_count": 7,
     "metadata": {},
     "output_type": "execute_result"
    }
   ],
   "source": [
    "tr_images.shape , train_data.shape, tr_labels.shape, train_labels.shape"
   ]
  },
  {
   "cell_type": "markdown",
   "metadata": {},
   "source": [
    "In order to actually have the same shape, we should reshape train_data, because 28 x 28 is 784"
   ]
  },
  {
   "cell_type": "code",
   "execution_count": 11,
   "metadata": {},
   "outputs": [
    {
     "data": {
      "text/plain": [
       "(60000, 28, 28)"
      ]
     },
     "execution_count": 11,
     "metadata": {},
     "output_type": "execute_result"
    }
   ],
   "source": [
    "train_data = train_data.reshape(train_data.shape[0], 28, 28)\n",
    "\n",
    "train_data.shape"
   ]
  },
  {
   "cell_type": "markdown",
   "metadata": {},
   "source": [
    "Let's see how this images look like"
   ]
  },
  {
   "cell_type": "code",
   "execution_count": 12,
   "metadata": {},
   "outputs": [
    {
     "data": {
      "image/png": "[encoded data removed]",
      "text/plain": [
       "<Figure size 640x480 with 2 Axes>"
      ]
     },
     "metadata": {},
     "output_type": "display_data"
    }
   ],
   "source": [
    "data_idx = 42\n",
    "\n",
    "plt.figure()\n",
    "plt.imshow(tr_images[data_idx], cmap='gray')\n",
    "plt.colorbar()\n",
    "plt.grid(False)\n",
    "plt.show()"
   ]
  },
  {
   "cell_type": "markdown",
   "metadata": {},
   "source": [
    "This would correspond to the following label:\n",
    "\n",
    "Label\tDescription\n",
    "0.\tT-shirt/top\n",
    "1.\tTrouser\n",
    "2.\tPullover\n",
    "3.\tDress\n",
    "4.\tCoat\n",
    "5.\tSandal\n",
    "6.\tShirt\n",
    "7.\tSneaker\n",
    "8.\tBag\n",
    "9.\tAnkle boot\n"
   ]
  },
  {
   "cell_type": "code",
   "execution_count": 13,
   "metadata": {},
   "outputs": [
    {
     "data": {
      "text/plain": [
       "9"
      ]
     },
     "execution_count": 13,
     "metadata": {},
     "output_type": "execute_result"
    }
   ],
   "source": [
    "tr_labels[data_idx]"
   ]
  },
  {
   "cell_type": "markdown",
   "metadata": {},
   "source": [
    "## Building a Neuron\n",
    "\n",
    "We can break down building a neuron into 3 steps:\n",
    "* Defining the architecture\n",
    "* Intiating training\n",
    "* Evaluating the model\n",
    "\n",
    "### The Math\n",
    "Computers are built with discrete 0s and 1s whereas humans and animals are built on more continuous building blocks. Because of this, some of the first neurons attempted to mimic biological neurons with a linear regression function: $y = mx + b$. The x is like information coming in through the dendrites and the y is like the output through the terminals. As the computer guesses more and more answers to the questions we present it, it will update its variables (m and b) to better fit the line to the data it has seen.\n",
    "\n",
    "Neurons are often exposed to multivariate data. We're going to build a neuron that takes each pixel value (which is between 0 and 255), and assign it a weight, which is equivalent to our m. Data scientists often express this weight as w. For example, the first pixel will have a weight of w0, the second will have a weight of w1, and so on. Our full equation becomes $y = w0x0 + w1x1 + w2x2 + ... + b$.\n",
    "\n",
    "Each image is 28 pixels by 28 pixels, so we will have a total of 784 weights. A pixel value of 0 would be black and a pixel value of 255 would be white. Let's look at the raw pixel values of the previous image we plotted. Each number below will be assigned a weight."
   ]
  },
  {
   "cell_type": "code",
   "execution_count": 15,
   "metadata": {},
   "outputs": [
    {
     "data": {
      "text/plain": [
       "array([[  0,   0,   0,   0,   0,   0,   0,   0,  26,  10,   5,   5,   5,\n",
       "          3,   4,   4,   3,   6,  24,   0,   0,   2,   0,   0,   0,   0,\n",
       "          0,   0],\n",
       "       [  0,   0,   0,   0,   0,   0,   0,   0, 196, 203, 201, 234, 237,\n",
       "        233, 231, 229, 196, 190, 207,  73,   0,   3,   0,   0,   0,   0,\n",
       "          0,   0],\n",
       "       [  0,   0,   0,   0,   0,   0,   0,   5, 195, 199, 194, 189, 192,\n",
       "        188, 186, 186, 189, 180, 194,  67,   0,   1,   0,   0,   0,   0,\n",
       "          0,   0],\n",
       "       [  0,   0,   0,   0,   0,   0,   0,  32, 202, 195, 193, 186, 193,\n",
       "        187, 186, 183, 189, 175, 197, 105,   0,   2,   0,   0,   0,   0,\n",
       "          0,   0],\n",
       "       [  0,   0,   0,   0,   0,   0,   0,  53, 208, 191, 190, 183, 190,\n",
       "        188, 186, 184, 186, 167, 195, 132,   0,   1,   0,   0,   0,   0,\n",
       "          0,   0],\n",
       "       [  0,   0,   0,   0,   0,   0,   0,  75, 210, 191, 190, 184, 191,\n",
       "        189, 184, 184, 185, 169, 190, 157,   0,   0,   0,   0,   0,   0,\n",
       "          0,   0],\n",
       "       [  0,   0,   0,   0,   0,   0,   0, 105, 209, 190, 191, 179, 190,\n",
       "        188, 182, 184, 182, 170, 186, 177,   0,   0,   0,   0,   0,   0,\n",
       "          0,   0],\n",
       "       [  0,   0,   0,   0,   0,   0,   0, 135, 207, 188, 195, 180, 191,\n",
       "        187, 180, 185, 181, 171, 184, 196,   0,   0,   0,   0,   0,   0,\n",
       "          0,   0],\n",
       "       [  0,   0,   0,   0,   0,   0,   0, 163, 205, 188, 197, 180, 191,\n",
       "        185, 178, 187, 181, 172, 182, 203,   0,   0,   0,   0,   0,   0,\n",
       "          0,   0],\n",
       "       [  0,   0,   0,   0,   0,   0,   0, 179, 203, 183, 194, 180, 189,\n",
       "        186, 180, 185, 179, 174, 179, 213,   0,   0,   0,   0,   0,   0,\n",
       "          0,   0],\n",
       "       [  0,   0,   0,   0,   0,   0,   0, 197, 199, 187, 188, 181, 185,\n",
       "        187, 182, 184, 179, 175, 178, 185,  20,   0,   0,   0,   0,   0,\n",
       "          0,   0],\n",
       "       [  0,   0,   0,   0,   0,   0,   0, 219, 194, 192, 189, 186, 184,\n",
       "        187, 183, 185, 180, 177, 177, 192,  48,   0,   0,   0,   0,   0,\n",
       "          0,   0],\n",
       "       [  0,   0,   0,   0,   0,   0,   0, 232, 192, 191, 188, 190, 183,\n",
       "        186, 183, 185, 181, 178, 177, 195,  64,   0,   0,   0,   0,   0,\n",
       "          0,   0],\n",
       "       [  0,   0,   0,   0,   0,   0,  15, 237, 194, 194, 188, 192, 186,\n",
       "        185, 187, 184, 183, 181, 178, 200,  83,   0,   0,   0,   0,   0,\n",
       "          0,   0],\n",
       "       [  0,   0,   0,   0,   0,   0,  52, 245, 199, 201, 194, 194, 191,\n",
       "        203, 203, 191, 194, 195, 186, 206, 113,   0,   0,   0,   0,   0,\n",
       "          0,   0],\n",
       "       [  0,   0,   0,   0,   0,   0,  90, 239, 197, 201, 188, 193, 196,\n",
       "        219, 218, 191, 188, 191, 183, 203, 146,   0,   0,   0,   0,   0,\n",
       "          0,   0],\n",
       "       [  0,   0,   0,   0,   0,   0, 101, 241, 195, 195, 183, 192, 187,\n",
       "        209, 194, 186, 189, 185, 175, 197, 168,   0,   0,   0,   0,   0,\n",
       "          0,   0],\n",
       "       [  0,   0,   0,   0,   0,   0, 132, 234, 185, 195, 183, 195, 181,\n",
       "        189, 193, 184, 193, 186, 181, 198, 192,   0,   0,   0,   0,   0,\n",
       "          0,   0],\n",
       "       [  0,   0,   0,   0,   0,   0, 176, 210, 195, 198, 191, 196, 187,\n",
       "        188, 197, 187, 192, 188, 181, 196, 215,   0,   0,   0,   0,   0,\n",
       "          0,   0],\n",
       "       [  0,   0,   0,   0,   0,   0, 199, 208, 194, 195, 195, 195, 189,\n",
       "        190, 195, 185, 194, 195, 183, 191, 221,   0,   0,   0,   0,   0,\n",
       "          0,   0],\n",
       "       [  0,   0,   0,   0,   0,   0, 191, 206, 206, 198, 196, 193, 191,\n",
       "        194, 195, 189, 193, 197, 197, 193, 224,   0,   0,   0,   0,   0,\n",
       "          0,   0],\n",
       "       [  0,   0,   0,   0,   0,   0, 200, 199, 200, 200, 197, 193, 192,\n",
       "        195, 194, 191, 190, 191, 188, 188, 225,   2,   0,   0,   0,   0,\n",
       "          0,   0],\n",
       "       [  0,   0,   0,   0,   0,   0, 204, 197, 201, 200, 198, 196, 193,\n",
       "        194, 193, 193, 191, 189, 189, 186, 227,   7,   0,   0,   0,   0,\n",
       "          0,   0],\n",
       "       [  0,   0,   0,   0,   0,   0, 200, 200, 201, 200, 200, 197, 195,\n",
       "        196, 195, 195, 191, 189, 190, 188, 228,   5,   0,   0,   0,   0,\n",
       "          0,   0],\n",
       "       [  0,   0,   0,   0,   0,   0, 201, 203, 202, 201, 203, 200, 197,\n",
       "        198, 198, 197, 196, 194, 193, 191, 196,   5,   0,   0,   0,   0,\n",
       "          0,   0],\n",
       "       [  0,   0,   0,   0,   0,   0, 202, 202, 199, 199, 194, 196, 192,\n",
       "        191, 190, 189, 190, 188, 190, 189, 196,  11,   0,   0,   0,   0,\n",
       "          0,   0],\n",
       "       [  0,   0,   0,   0,   0,   0, 245, 249, 247, 247, 238, 241, 241,\n",
       "        234, 234, 235, 236, 237, 232, 200, 255,  20,   0,   0,   0,   0,\n",
       "          0,   0],\n",
       "       [  0,   0,   0,   0,   0,   0,   8,  30,  41,  52,  57,  62,  69,\n",
       "         82,  82,  84,  77,  63,  42,  28,  24,   0,   0,   0,   0,   0,\n",
       "          0,   0]], dtype=uint8)"
      ]
     },
     "execution_count": 15,
     "metadata": {},
     "output_type": "execute_result"
    }
   ],
   "source": [
    "vd_images[data_idx]"
   ]
  },
  {
   "cell_type": "markdown",
   "metadata": {},
   "source": [
    "In the below model, we have two layers:\n",
    "\n",
    "* Flatten - Converts multidimensional data into 1 dimensional data (ex: a list of lists into a single list).\n",
    "* Dense - A \"row\" of neurons. Each neuron has a weight (w) for each input. In the example below, we use the number 10 to place ten neurons.\n",
    "\n",
    "We will also define an input_shape which is the dimensions of our data. In this case, our 28x28 pixels for each image."
   ]
  },
  {
   "cell_type": "code",
   "execution_count": 16,
   "metadata": {},
   "outputs": [
    {
     "data": {
      "text/plain": [
       "10.0"
      ]
     },
     "execution_count": 16,
     "metadata": {},
     "output_type": "execute_result"
    }
   ],
   "source": [
    "number_of_classes = train_labels.max() + 1\n",
    "number_of_classes"
   ]
  },
  {
   "cell_type": "code",
   "execution_count": 17,
   "metadata": {},
   "outputs": [],
   "source": [
    "model = tf.keras.Sequential([\n",
    "    tf.keras.layers.Flatten(input_shape=(28, 28)),\n",
    "    tf.keras.layers.Dense(number_of_classes)\n",
    "])"
   ]
  },
  {
   "cell_type": "markdown",
   "metadata": {},
   "source": [
    "### Verifying the model"
   ]
  },
  {
   "cell_type": "code",
   "execution_count": 18,
   "metadata": {},
   "outputs": [
    {
     "name": "stdout",
     "output_type": "stream",
     "text": [
      "Model: \"sequential\"\n",
      "_________________________________________________________________\n",
      " Layer (type)                Output Shape              Param #   \n",
      "=================================================================\n",
      " flatten (Flatten)           (None, 784)               0         \n",
      "                                                                 \n",
      " dense (Dense)               (None, 10)                7850      \n",
      "                                                                 \n",
      "=================================================================\n",
      "Total params: 7,850\n",
      "Trainable params: 7,850\n",
      "Non-trainable params: 0\n",
      "_________________________________________________________________\n"
     ]
    }
   ],
   "source": [
    "model.summary()"
   ]
  },
  {
   "cell_type": "code",
   "execution_count": 19,
   "metadata": {},
   "outputs": [
    {
     "data": {
      "image/png": "[encoded data removed]",
      "text/plain": [
       "<IPython.core.display.Image object>"
      ]
     },
     "execution_count": 19,
     "metadata": {},
     "output_type": "execute_result"
    }
   ],
   "source": [
    "tf.keras.utils.plot_model(model, show_shapes=True)"
   ]
  },
  {
   "cell_type": "markdown",
   "metadata": {},
   "source": [
    "## Initiate Training\n",
    "\n",
    "In this case, we're going to use a type of function specific to classification called SparseCategoricalCrossentropy:\n",
    "\n",
    "* Sparse - for this function, it refers to how our label is an integer index for our categories\n",
    "* Categorical - this function was made for classification\n",
    "* Cross-entropy - the more confident our model is when it makes an incorrect guess, the worse its score will be. If a model is 100% confident when it is wrong, it will have a score of negative infinity!\n",
    "* from_logits - the linear output will be transformed into a probability which can be interpreted as the model's confidence that a particular category is the correct one for the given input.\n",
    "\n",
    "This type of loss function works well for our case because it grades each of the neurons simultaneously. If all of our neurons give a strong signal that they're the correct label, we need a way to tell them that they can't all be right."
   ]
  },
  {
   "cell_type": "code",
   "execution_count": 20,
   "metadata": {},
   "outputs": [],
   "source": [
    "model.compile(optimizer='adam',\n",
    "              loss=tf.keras.losses.SparseCategoricalCrossentropy(from_logits=True),\n",
    "              metrics = ['accuracy'])"
   ]
  },
  {
   "cell_type": "markdown",
   "metadata": {},
   "source": [
    "## Evaluating the model"
   ]
  },
  {
   "cell_type": "code",
   "execution_count": 21,
   "metadata": {},
   "outputs": [
    {
     "name": "stdout",
     "output_type": "stream",
     "text": [
      "Epoch 1/5\n",
      "1875/1875 [==============================] - 6s 2ms/step - loss: 16.7315 - accuracy: 0.7450 - val_loss: 12.2006 - val_accuracy: 0.7721\n",
      "Epoch 2/5\n",
      "1875/1875 [==============================] - 3s 2ms/step - loss: 12.5236 - accuracy: 0.7899 - val_loss: 12.8884 - val_accuracy: 0.7868\n",
      "Epoch 3/5\n",
      "1875/1875 [==============================] - 3s 2ms/step - loss: 11.1742 - accuracy: 0.7950 - val_loss: 12.3358 - val_accuracy: 0.7863\n",
      "Epoch 4/5\n",
      "1875/1875 [==============================] - 3s 2ms/step - loss: 10.7959 - accuracy: 0.8005 - val_loss: 15.6282 - val_accuracy: 0.7288\n",
      "Epoch 5/5\n",
      "1875/1875 [==============================] - 3s 2ms/step - loss: 10.3647 - accuracy: 0.8010 - val_loss: 14.8393 - val_accuracy: 0.7865\n"
     ]
    }
   ],
   "source": [
    "history = model.fit(\n",
    "    tr_images,\n",
    "    tr_labels,\n",
    "    epochs = 5,\n",
    "    verbose = True,\n",
    "    validation_data = (vd_images, vd_labels)\n",
    ")"
   ]
  },
  {
   "cell_type": "code",
   "execution_count": 22,
   "metadata": {},
   "outputs": [
    {
     "name": "stdout",
     "output_type": "stream",
     "text": [
      "1/1 [==============================] - 0s 73ms/step\n"
     ]
    },
    {
     "data": {
      "text/plain": [
       "array([[-5.4248621e+02, -5.0021399e+02, -3.1289825e+02, -3.6135114e+02,\n",
       "        -2.4130420e+02,  4.8845319e+02, -3.5043884e+01,  4.4762286e+02,\n",
       "         2.5131216e+02,  7.5479736e+02],\n",
       "       [ 4.1962491e+02, -2.8041867e+02,  2.2059001e+02,  6.4173416e+01,\n",
       "         2.7573490e+01, -9.3846021e+02,  2.8161060e+02, -1.8972720e+03,\n",
       "        -3.4258167e+01, -8.0359070e+02],\n",
       "       [ 9.2325928e+01,  2.2067392e+01,  4.5056793e+01,  8.5030418e+01,\n",
       "         9.7006912e+01, -3.2171112e+02,  6.5819489e+01, -5.3029767e+02,\n",
       "        -4.8872372e+01, -1.7281438e+02],\n",
       "       [ 1.3972899e+02,  3.2442345e+01,  1.0000545e+02,  1.4899245e+02,\n",
       "         1.0134251e+02, -4.9183624e+02,  1.7195581e+02, -1.0619097e+03,\n",
       "        -8.5425095e+01, -6.0691235e+02],\n",
       "       [ 1.9002907e+02,  1.2188194e+02,  2.6010986e+01,  1.8148170e+02,\n",
       "         2.1535930e+02, -6.4941205e+02,  1.1252113e+02, -7.8904785e+02,\n",
       "         4.1864769e+01, -6.9740973e+02],\n",
       "       [ 3.5662910e+01, -5.1161770e+01,  2.8766861e+02,  6.7305161e+01,\n",
       "         1.6421118e+02, -5.1709882e+02,  1.7608914e+02, -1.7359795e+03,\n",
       "        -3.7910629e+01, -1.0176569e+03],\n",
       "       [-3.1925812e+02, -3.2570081e+02, -1.6223067e+02, -1.6427573e+02,\n",
       "        -1.9020200e+02,  2.2428625e+02, -1.5014391e+02,  2.0665543e+02,\n",
       "         3.8218079e+01,  7.4131363e+01],\n",
       "       [-2.2275641e+02, -2.0843269e+02,  1.7148553e+02, -1.3462779e+02,\n",
       "         1.9725928e+02, -7.8971771e+02,  1.7567432e+02, -1.9067174e+03,\n",
       "         6.1445385e+01, -8.5078265e+02],\n",
       "       [-1.3650061e+00, -4.0189188e+02, -1.2436654e+02, -1.5523680e+02,\n",
       "        -2.1985956e+02,  4.9587241e+02,  4.2434373e+00,  1.7645376e+01,\n",
       "        -2.0834152e+01,  3.8382059e+02],\n",
       "       [-2.4315648e+02, -2.8810825e+02,  4.7403569e+00, -1.2919493e+01,\n",
       "        -4.9194118e+01,  7.9024603e+02,  9.9192490e+01, -6.5113777e+01,\n",
       "         2.2839345e+02,  3.9749844e+02]], dtype=float32)"
      ]
     },
     "execution_count": 22,
     "metadata": {},
     "output_type": "execute_result"
    }
   ],
   "source": [
    "model.predict(tr_images[0:10])"
   ]
  },
  {
   "cell_type": "code",
   "execution_count": 31,
   "metadata": {},
   "outputs": [
    {
     "name": "stdout",
     "output_type": "stream",
     "text": [
      "1/1 [==============================] - 0s 12ms/step\n"
     ]
    },
    {
     "data": {
      "text/plain": [
       "(5, 10)"
      ]
     },
     "execution_count": 31,
     "metadata": {},
     "output_type": "execute_result"
    }
   ],
   "source": [
    "output = model.predict(tr_images[data_idx:data_idx+5])\n",
    "output.shape"
   ]
  },
  {
   "cell_type": "code",
   "execution_count": 27,
   "metadata": {},
   "outputs": [],
   "source": [
    "def softmax(x):\n",
    "    \"\"\"\n",
    "    Compute softmax function for a batch of input values.\n",
    "    First dim of the input: batch size.\n",
    "    Second dim of the input: prob of every class in the output.\n",
    "    Only sum over the second dim.\n",
    "    \n",
    "    Important: Avoid overflow for this function. It overflows for very big numbers like e^10000.\n",
    "\n",
    "    Args:\n",
    "        x : 2d numpy float array (batch_size , number_of_classes)\n",
    "        \n",
    "    Returns: \n",
    "        2d numpy float array containing softmax results (batch_size, number_of_classes)\n",
    "    \"\"\"\n",
    "    \n",
    "    # Prof. Mark Cramer suggested to apply a stability trick to avoid overflow\n",
    "    x_shifted = x - np.max(x, axis=1, keepdims=True)\n",
    "    exps = np.exp(x_shifted)\n",
    "    softmax_values = exps / np.sum(exps, axis=1, keepdims=True)\n",
    "    \n",
    "    return softmax_values"
   ]
  },
  {
   "cell_type": "code",
   "execution_count": 34,
   "metadata": {},
   "outputs": [
    {
     "data": {
      "text/plain": [
       "array([[0.0000000e+00, 0.0000000e+00, 0.0000000e+00, 0.0000000e+00,\n",
       "        0.0000000e+00, 0.0000000e+00, 1.0000000e+00, 0.0000000e+00,\n",
       "        0.0000000e+00, 0.0000000e+00],\n",
       "       [0.0000000e+00, 0.0000000e+00, 0.0000000e+00, 0.0000000e+00,\n",
       "        0.0000000e+00, 0.0000000e+00, 0.0000000e+00, 0.0000000e+00,\n",
       "        0.0000000e+00, 1.0000000e+00],\n",
       "       [0.0000000e+00, 0.0000000e+00, 0.0000000e+00, 0.0000000e+00,\n",
       "        0.0000000e+00, 1.4382703e-39, 0.0000000e+00, 1.0000000e+00,\n",
       "        0.0000000e+00, 0.0000000e+00],\n",
       "       [0.0000000e+00, 0.0000000e+00, 3.4016712e-35, 0.0000000e+00,\n",
       "        9.9999952e-01, 0.0000000e+00, 4.4547235e-07, 0.0000000e+00,\n",
       "        2.1972673e-25, 0.0000000e+00],\n",
       "       [0.0000000e+00, 0.0000000e+00, 0.0000000e+00, 0.0000000e+00,\n",
       "        0.0000000e+00, 0.0000000e+00, 0.0000000e+00, 0.0000000e+00,\n",
       "        0.0000000e+00, 1.0000000e+00]], dtype=float32)"
      ]
     },
     "execution_count": 34,
     "metadata": {},
     "output_type": "execute_result"
    }
   ],
   "source": [
    "output_probs = softmax(output)\n",
    "\n",
    "output_probs"
   ]
  },
  {
   "cell_type": "code",
   "execution_count": 24,
   "metadata": {},
   "outputs": [
    {
     "data": {
      "image/png": "[encoded data removed]",
      "text/plain": [
       "<Figure size 640x480 with 2 Axes>"
      ]
     },
     "metadata": {},
     "output_type": "display_data"
    },
    {
     "name": "stdout",
     "output_type": "stream",
     "text": [
      "1/1 [==============================] - 0s 14ms/step\n"
     ]
    },
    {
     "data": {
      "image/png": "[encoded data removed]",
      "text/plain": [
       "<Figure size 640x480 with 1 Axes>"
      ]
     },
     "metadata": {},
     "output_type": "display_data"
    },
    {
     "name": "stdout",
     "output_type": "stream",
     "text": [
      "correct answer:  6\n"
     ]
    }
   ],
   "source": [
    "data_idx = 8675 # any number up to 59999\n",
    "\n",
    "plt.figure()\n",
    "plt.imshow(tr_images[data_idx], cmap='gray')\n",
    "plt.colorbar()\n",
    "plt.grid(False)\n",
    "plt.show()\n",
    "\n",
    "x_values = range(int(number_of_classes))\n",
    "plt.figure()\n",
    "plt.bar(x_values, model.predict(tr_images[data_idx:data_idx+1]).flatten())\n",
    "plt.xticks(range(10))\n",
    "plt.show()\n",
    "\n",
    "print(\"correct answer: \", tr_labels[data_idx])"
   ]
  },
  {
   "cell_type": "code",
   "execution_count": null,
   "metadata": {},
   "outputs": [],
   "source": []
  }
 ],
 "metadata": {
  "kernelspec": {
   "display_name": "aircraft_CUDA_v1",
   "language": "python",
   "name": "python3"
  },
  "language_info": {
   "codemirror_mode": {
    "name": "ipython",
    "version": 3
   },
   "file_extension": ".py",
   "mimetype": "text/x-python",
   "name": "python",
   "nbconvert_exporter": "python",
   "pygments_lexer": "ipython3",
   "version": "3.9.19"
  }
 },
 "nbformat": 4,
 "nbformat_minor": 2
}
